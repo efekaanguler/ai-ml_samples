{
 "cells": [
  {
   "cell_type": "code",
   "execution_count": 9,
   "id": "b63ed0ca-c827-42ec-851d-d87f9b192fb8",
   "metadata": {},
   "outputs": [],
   "source": [
    "import torch\n",
    "from torch import nn\n",
    "from model_conv1d import Encoder, PPFFoldNet\n",
    "from torchinfo import summary"
   ]
  },
  {
   "cell_type": "code",
   "execution_count": 10,
   "id": "c1a0d573-582e-4649-abed-edebd6549255",
   "metadata": {},
   "outputs": [
    {
     "name": "stdout",
     "output_type": "stream",
     "text": [
      "----------------------------------------------------------------\n",
      "        Layer (type)               Output Shape         Param #\n",
      "================================================================\n",
      "            Conv1d-1             [32, 64, 1024]             320\n",
      "       BatchNorm1d-2             [32, 64, 1024]             128\n",
      "              ReLU-3             [32, 64, 1024]               0\n",
      "            Conv1d-4            [32, 128, 1024]           8,320\n",
      "       BatchNorm1d-5            [32, 128, 1024]             256\n",
      "              ReLU-6            [32, 128, 1024]               0\n",
      "            Conv1d-7            [32, 256, 1024]          33,024\n",
      "       BatchNorm1d-8            [32, 256, 1024]             512\n",
      "              ReLU-9            [32, 256, 1024]               0\n",
      "           Linear-10           [32, 1024, 1024]         721,920\n",
      "           Linear-11            [32, 1024, 512]         524,800\n",
      "          Encoder-12               [32, 1, 512]               0\n",
      "           Conv1d-13            [32, 256, 1024]         131,840\n",
      "             ReLU-14            [32, 256, 1024]               0\n",
      "           Conv1d-15            [32, 128, 1024]          32,896\n",
      "             ReLU-16            [32, 128, 1024]               0\n",
      "           Conv1d-17             [32, 64, 1024]           8,256\n",
      "             ReLU-18             [32, 64, 1024]               0\n",
      "           Conv1d-19             [32, 32, 1024]           2,080\n",
      "             ReLU-20             [32, 32, 1024]               0\n",
      "           Conv1d-21              [32, 4, 1024]             132\n",
      "           Conv1d-22            [32, 256, 1024]         132,352\n",
      "             ReLU-23            [32, 256, 1024]               0\n",
      "           Conv1d-24            [32, 128, 1024]          32,896\n",
      "             ReLU-25            [32, 128, 1024]               0\n",
      "           Conv1d-26             [32, 64, 1024]           8,256\n",
      "             ReLU-27             [32, 64, 1024]               0\n",
      "           Conv1d-28             [32, 32, 1024]           2,080\n",
      "             ReLU-29             [32, 32, 1024]               0\n",
      "           Conv1d-30              [32, 4, 1024]             132\n",
      "          Decoder-31              [32, 1024, 4]               0\n",
      "================================================================\n",
      "Total params: 1,640,200\n",
      "Trainable params: 1,640,200\n",
      "Non-trainable params: 0\n",
      "----------------------------------------------------------------\n",
      "Input size (MB): 0.50\n",
      "Forward/backward pass size (MB): 1203.12\n",
      "Params size (MB): 6.26\n",
      "Estimated Total Size (MB): 1209.88\n",
      "----------------------------------------------------------------\n"
     ]
    }
   ],
   "source": [
    "model = PPFFoldNet()"
   ]
  },
  {
   "cell_type": "code",
   "execution_count": 11,
   "id": "e75dcc91-4425-4b33-94fc-f2fc9c66ce93",
   "metadata": {},
   "outputs": [
    {
     "data": {
      "text/plain": [
       "PPFFoldNet(\n",
       "  (encoder): Encoder(\n",
       "    (conv1): Conv1d(4, 64, kernel_size=(1,), stride=(1,))\n",
       "    (bn1): BatchNorm1d(64, eps=1e-05, momentum=0.1, affine=True, track_running_stats=True)\n",
       "    (relu1): ReLU()\n",
       "    (conv2): Conv1d(64, 128, kernel_size=(1,), stride=(1,))\n",
       "    (bn2): BatchNorm1d(128, eps=1e-05, momentum=0.1, affine=True, track_running_stats=True)\n",
       "    (relu2): ReLU()\n",
       "    (conv3): Conv1d(128, 256, kernel_size=(1,), stride=(1,))\n",
       "    (bn3): BatchNorm1d(256, eps=1e-05, momentum=0.1, affine=True, track_running_stats=True)\n",
       "    (relu3): ReLU()\n",
       "    (fc1): Linear(in_features=704, out_features=1024, bias=True)\n",
       "    (fc2): Linear(in_features=1024, out_features=512, bias=True)\n",
       "  )\n",
       "  (decoder): Decoder(\n",
       "    (mlp1): Sequential(\n",
       "      (0): Conv1d(514, 256, kernel_size=(1,), stride=(1,))\n",
       "      (1): ReLU()\n",
       "      (2): Conv1d(256, 128, kernel_size=(1,), stride=(1,))\n",
       "      (3): ReLU()\n",
       "      (4): Conv1d(128, 64, kernel_size=(1,), stride=(1,))\n",
       "      (5): ReLU()\n",
       "      (6): Conv1d(64, 32, kernel_size=(1,), stride=(1,))\n",
       "      (7): ReLU()\n",
       "      (8): Conv1d(32, 4, kernel_size=(1,), stride=(1,))\n",
       "    )\n",
       "    (mlp2): Sequential(\n",
       "      (0): Conv1d(516, 256, kernel_size=(1,), stride=(1,))\n",
       "      (1): ReLU()\n",
       "      (2): Conv1d(256, 128, kernel_size=(1,), stride=(1,))\n",
       "      (3): ReLU()\n",
       "      (4): Conv1d(128, 64, kernel_size=(1,), stride=(1,))\n",
       "      (5): ReLU()\n",
       "      (6): Conv1d(64, 32, kernel_size=(1,), stride=(1,))\n",
       "      (7): ReLU()\n",
       "      (8): Conv1d(32, 4, kernel_size=(1,), stride=(1,))\n",
       "    )\n",
       "  )\n",
       ")"
      ]
     },
     "execution_count": 11,
     "metadata": {},
     "output_type": "execute_result"
    }
   ],
   "source": [
    "model.to(\"cuda\")"
   ]
  },
  {
   "cell_type": "code",
   "execution_count": 12,
   "id": "a614f41e-b0d1-4e2c-abd8-ad7f6cf225b6",
   "metadata": {},
   "outputs": [
    {
     "data": {
      "text/plain": [
       "<All keys matched successfully>"
      ]
     },
     "execution_count": 12,
     "metadata": {},
     "output_type": "execute_result"
    }
   ],
   "source": [
    "weights = torch.load(\"sun3d_best.pkl\")\n",
    "model.load_state_dict(weights)"
   ]
  },
  {
   "cell_type": "code",
   "execution_count": 13,
   "id": "881f7587-2e65-47f9-b8e7-f202a9f8a936",
   "metadata": {},
   "outputs": [],
   "source": [
    "from learning3d.data_utils import ClassificationData, ModelNet40Data\n",
    "from torch.utils.data import DataLoader\n",
    "test_dataset = ClassificationData(data_class=ModelNet40Data(train=False, num_points=4096, use_normals=True))\n",
    "test_loader = DataLoader(test_dataset, batch_size=8, shuffle=False, num_workers=2)"
   ]
  },
  {
   "cell_type": "code",
   "execution_count": 14,
   "id": "ddc2d810-7d81-4403-ac2c-f29d4007ee01",
   "metadata": {},
   "outputs": [],
   "source": [
    "class PointCloudNormalizer(nn.Module):\n",
    "    def __init__(self):\n",
    "        super(PointCloudNormalizer, self).__init__()\n",
    "\n",
    "    def forward(self, x):\n",
    "        \"\"\"\n",
    "        Input: x -> (B, N, 6)  -> (x, y, z, nx, ny, nz)\n",
    "        Output: out -> (B, N, 4) -> (x, y, z, norm_magnitude)\n",
    "        \"\"\"\n",
    "        xyz = x[:, :, :3]  # (B, N, 3) - x, y, z koordinatları\n",
    "        normals = x[:, :, 3:]  # (B, N, 3) - normal vektörleri\n",
    "        \n",
    "        # Normallerin büyüklüğünü hesapla (L2 normu)\n",
    "        norm_magnitude = torch.norm(normals, dim=2, keepdim=True)  # (B, N, 1)\n",
    "\n",
    "        # Yeni tensörü oluştur (x, y, z, norm büyüklüğü)\n",
    "        out = torch.cat((xyz, norm_magnitude), dim=2)  # (B, N, 4)\n",
    "        return out\n",
    "\n",
    "normalizer_model = PointCloudNormalizer"
   ]
  },
  {
   "cell_type": "code",
   "execution_count": 15,
   "id": "5fbe5829-55b9-4082-8932-59ea71acd99d",
   "metadata": {},
   "outputs": [],
   "source": [
    "class PointCloudNormalizer(nn.Module):\n",
    "    def __init__(self):\n",
    "        super(PointCloudNormalizer, self).__init__()\n",
    "\n",
    "    def forward(self, x):\n",
    "        \"\"\"\n",
    "        Input: x -> (B, N, 6)  -> (x, y, z, nx, ny, nz)\n",
    "        Output: out -> (B, N, 4) -> (x, y, z, norm_magnitude)\n",
    "        \"\"\"\n",
    "        xyz = x[:, :, :3]  # (B, N, 3) - x, y, z koordinatları\n",
    "        normals = x[:, :, 3:]  # (B, N, 3) - normal vektörleri\n",
    "        \n",
    "        # Normallerin büyüklüğünü hesapla (L2 normu)\n",
    "        norm_magnitude = torch.norm(normals, dim=2, keepdim=True)  # (B, N, 1)\n",
    "\n",
    "        # Yeni tensörü oluştur (x, y, z, norm büyüklüğü)\n",
    "        out = torch.cat((xyz, norm_magnitude), dim=2)  # (B, N, 4)\n",
    "        return out\n",
    "\n",
    "\n",
    "class EncoderHead(nn.Module):\n",
    "    def __init__(self, input_dim=512, hidden_dim=256, output_dim=128):\n",
    "        super(EncoderHead, self).__init__()\n",
    "        self.fc1 = nn.Linear(input_dim, hidden_dim)  # 512 → 256\n",
    "        self.norm1 = nn.BatchNorm1d(hidden_dim)\n",
    "        self.act1 = nn.ReLU()\n",
    "        self.fc2 = nn.Linear(hidden_dim, output_dim)  # 256 → 128\n",
    "\n",
    "    def forward(self, x):\n",
    "        \"\"\"\n",
    "        Input: x -> (B, 512)\n",
    "        Output: out -> (B, 128)\n",
    "        \"\"\"\n",
    "        out = self.fc1(x)\n",
    "        out = self.norm1(out)\n",
    "        out = self.act1(out)\n",
    "\n",
    "        out = self.fc2(out)\n",
    "\n",
    "        return out\n",
    "\n",
    "\n",
    "class PPFFoldNetEncoder(nn.Module):\n",
    "    \"\"\"Tüm modelleri birleştiren encoder\"\"\"\n",
    "    def __init__(self, input_dim=6, hidden_dim=512, output_dim=128):\n",
    "        super(PPFFoldNetEncoder, self).__init__()\n",
    "        self.normalizer = PointCloudNormalizer()\n",
    "        self.base = model.encoder\n",
    "        self.head = EncoderHead(512, 256, 128)\n",
    "\n",
    "    def forward(self, x):\n",
    "        x = self.normalizer(x)\n",
    "        x = self.base(x)\n",
    "        x = self.head(x)\n",
    "        return x\n",
    "\n",
    "model = PPFFoldNetEncoder().to(\"cuda\")\n",
    "torch.save(model.state_dict(), \"initial.pkl\")  # Sadece ağırlıkları kaydet\n"
   ]
  },
  {
   "cell_type": "code",
   "execution_count": 16,
   "id": "c1d2e085-681e-49ac-ad2c-d4bcd887b00a",
   "metadata": {},
   "outputs": [
    {
     "data": {
      "text/plain": [
       "PPFFoldNetEncoder(\n",
       "  (normalizer): PointCloudNormalizer()\n",
       "  (base): Encoder(\n",
       "    (conv1): Conv1d(4, 64, kernel_size=(1,), stride=(1,))\n",
       "    (bn1): BatchNorm1d(64, eps=1e-05, momentum=0.1, affine=True, track_running_stats=True)\n",
       "    (relu1): ReLU()\n",
       "    (conv2): Conv1d(64, 128, kernel_size=(1,), stride=(1,))\n",
       "    (bn2): BatchNorm1d(128, eps=1e-05, momentum=0.1, affine=True, track_running_stats=True)\n",
       "    (relu2): ReLU()\n",
       "    (conv3): Conv1d(128, 256, kernel_size=(1,), stride=(1,))\n",
       "    (bn3): BatchNorm1d(256, eps=1e-05, momentum=0.1, affine=True, track_running_stats=True)\n",
       "    (relu3): ReLU()\n",
       "    (fc1): Linear(in_features=704, out_features=1024, bias=True)\n",
       "    (fc2): Linear(in_features=1024, out_features=512, bias=True)\n",
       "  )\n",
       "  (head): EncoderHead(\n",
       "    (fc1): Linear(in_features=512, out_features=256, bias=True)\n",
       "    (norm1): BatchNorm1d(256, eps=1e-05, momentum=0.1, affine=True, track_running_stats=True)\n",
       "    (act1): ReLU()\n",
       "    (fc2): Linear(in_features=256, out_features=128, bias=True)\n",
       "  )\n",
       ")"
      ]
     },
     "execution_count": 16,
     "metadata": {},
     "output_type": "execute_result"
    }
   ],
   "source": [
    "model"
   ]
  },
  {
   "cell_type": "code",
   "execution_count": 93,
   "id": "fa0a9486-c52a-488e-a710-4afd3a8fbe8b",
   "metadata": {},
   "outputs": [],
   "source": [
    "torch.save(model.state_dict(), \"initial.pkl\")  # Sadece ağırlıkları kaydet"
   ]
  },
  {
   "cell_type": "code",
   "execution_count": null,
   "id": "911957da-9966-4883-b7de-d4d8dd3f004f",
   "metadata": {},
   "outputs": [],
   "source": []
  }
 ],
 "metadata": {
  "kernelspec": {
   "display_name": "learning3d",
   "language": "python",
   "name": "learning3d"
  },
  "language_info": {
   "codemirror_mode": {
    "name": "ipython",
    "version": 3
   },
   "file_extension": ".py",
   "mimetype": "text/x-python",
   "name": "python",
   "nbconvert_exporter": "python",
   "pygments_lexer": "ipython3",
   "version": "3.10.12"
  }
 },
 "nbformat": 4,
 "nbformat_minor": 5
}
