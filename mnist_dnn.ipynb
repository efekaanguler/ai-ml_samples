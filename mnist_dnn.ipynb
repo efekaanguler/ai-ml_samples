{
 "cells": [
  {
   "cell_type": "markdown",
   "id": "19a7a7ae-8ded-4e11-a165-57ba75343d87",
   "metadata": {},
   "source": [
    "# Importing TensorFlow"
   ]
  },
  {
   "cell_type": "code",
   "execution_count": 1,
   "id": "dff2ed8c-42b8-460a-8d0f-0138f7e6deef",
   "metadata": {},
   "outputs": [
    {
     "name": "stdout",
     "output_type": "stream",
     "text": [
      "Sun Jun 16 23:40:00 2024       \n",
      "+-----------------------------------------------------------------------------------------+\n",
      "| NVIDIA-SMI 550.54.14              Driver Version: 550.54.14      CUDA Version: 12.4     |\n",
      "|-----------------------------------------+------------------------+----------------------+\n",
      "| GPU  Name                 Persistence-M | Bus-Id          Disp.A | Volatile Uncorr. ECC |\n",
      "| Fan  Temp   Perf          Pwr:Usage/Cap |           Memory-Usage | GPU-Util  Compute M. |\n",
      "|                                         |                        |               MIG M. |\n",
      "|=========================================+========================+======================|\n",
      "|   0  NVIDIA GeForce RTX 4060 ...    Off |   00000000:01:00.0  On |                  N/A |\n",
      "| N/A   42C    P4             10W /  100W |      63MiB /   8188MiB |      9%      Default |\n",
      "|                                         |                        |                  N/A |\n",
      "+-----------------------------------------+------------------------+----------------------+\n",
      "                                                                                         \n",
      "+-----------------------------------------------------------------------------------------+\n",
      "| Processes:                                                                              |\n",
      "|  GPU   GI   CI        PID   Type   Process name                              GPU Memory |\n",
      "|        ID   ID                                                               Usage      |\n",
      "|=========================================================================================|\n",
      "|    0   N/A  N/A      1964      G   /usr/lib/xorg/Xorg                             53MiB |\n",
      "+-----------------------------------------------------------------------------------------+\n"
     ]
    }
   ],
   "source": [
    "!nvidia-smi"
   ]
  },
  {
   "cell_type": "code",
   "execution_count": 2,
   "id": "144d1448-fbb3-45ce-87dc-f299caa900a6",
   "metadata": {},
   "outputs": [
    {
     "name": "stderr",
     "output_type": "stream",
     "text": [
      "2024-06-16 23:40:01.333380: I tensorflow/core/util/port.cc:113] oneDNN custom operations are on. You may see slightly different numerical results due to floating-point round-off errors from different computation orders. To turn them off, set the environment variable `TF_ENABLE_ONEDNN_OPTS=0`.\n",
      "2024-06-16 23:40:01.356807: E external/local_xla/xla/stream_executor/cuda/cuda_dnn.cc:9261] Unable to register cuDNN factory: Attempting to register factory for plugin cuDNN when one has already been registered\n",
      "2024-06-16 23:40:01.356829: E external/local_xla/xla/stream_executor/cuda/cuda_fft.cc:607] Unable to register cuFFT factory: Attempting to register factory for plugin cuFFT when one has already been registered\n",
      "2024-06-16 23:40:01.357469: E external/local_xla/xla/stream_executor/cuda/cuda_blas.cc:1515] Unable to register cuBLAS factory: Attempting to register factory for plugin cuBLAS when one has already been registered\n",
      "2024-06-16 23:40:01.362102: I tensorflow/core/platform/cpu_feature_guard.cc:182] This TensorFlow binary is optimized to use available CPU instructions in performance-critical operations.\n",
      "To enable the following instructions: AVX2 AVX_VNNI FMA, in other operations, rebuild TensorFlow with the appropriate compiler flags.\n"
     ]
    },
    {
     "name": "stdout",
     "output_type": "stream",
     "text": [
      "2.15.0\n"
     ]
    }
   ],
   "source": [
    "import tensorflow as tf\n",
    "print(tf.__version__)"
   ]
  },
  {
   "cell_type": "code",
   "execution_count": 3,
   "id": "1f05168c-4111-497c-b6a5-505d3338e47e",
   "metadata": {},
   "outputs": [],
   "source": [
    "import numpy as np\n",
    "import pandas as pd\n",
    "import matplotlib.pyplot as plt\n",
    "import seaborn as sns"
   ]
  },
  {
   "cell_type": "markdown",
   "id": "f45e3841-fe6b-4ffd-9bf0-8ae557637a08",
   "metadata": {},
   "source": [
    "# Preparing data"
   ]
  },
  {
   "cell_type": "code",
   "execution_count": 4,
   "id": "1f01c0cc-4cfb-4233-b96f-5deccacd6b15",
   "metadata": {},
   "outputs": [],
   "source": [
    "(x_train, y_train), (x_test, y_test) = tf.keras.datasets.mnist.load_data()"
   ]
  },
  {
   "cell_type": "code",
   "execution_count": 5,
   "id": "8577980d-7615-4b6b-860c-771678531e98",
   "metadata": {},
   "outputs": [
    {
     "data": {
      "text/plain": [
       "((60000, 28, 28), (60000,), (10000, 28, 28), (10000,))"
      ]
     },
     "execution_count": 5,
     "metadata": {},
     "output_type": "execute_result"
    }
   ],
   "source": [
    "x_train.shape, y_train.shape, x_test.shape, y_test.shape"
   ]
  },
  {
   "cell_type": "markdown",
   "id": "2e6fd0f4-0997-4a7c-8268-aaad5d3b9517",
   "metadata": {},
   "source": [
    "We have 60k training, 10k testing images in shape of (28,28)"
   ]
  },
  {
   "cell_type": "code",
   "execution_count": 6,
   "id": "b6b7afab-0fff-490a-b86f-be524b6dffef",
   "metadata": {},
   "outputs": [
    {
     "name": "stderr",
     "output_type": "stream",
     "text": [
      "2024-06-16 23:40:03.087390: I tensorflow/core/common_runtime/gpu/gpu_device.cc:1929] Created device /job:localhost/replica:0/task:0/device:GPU:0 with 6021 MB memory:  -> device: 0, name: NVIDIA GeForce RTX 4060 Laptop GPU, pci bus id: 0000:01:00.0, compute capability: 8.9\n"
     ]
    }
   ],
   "source": [
    "x_train_tensor = tf.constant(x_train, dtype = tf.float32)\n",
    "x_test_tensor = tf.constant(x_test, dtype = tf.float32)\n",
    "y_train_tensor = tf.constant(y_train)\n",
    "y_test_tensor = tf.constant(y_test)"
   ]
  },
  {
   "cell_type": "code",
   "execution_count": 7,
   "id": "605e7b1f-5d61-495b-8ccf-1c88e49db0a6",
   "metadata": {},
   "outputs": [],
   "source": [
    "x_train_tensor_rescaled = x_train_tensor / 255.\n",
    "x_test_tensor_rescaled = x_test_tensor / 255."
   ]
  },
  {
   "cell_type": "code",
   "execution_count": 8,
   "id": "c39796ee-f22c-4bbc-96cc-f3ebf4ca8f4c",
   "metadata": {},
   "outputs": [
    {
     "name": "stdout",
     "output_type": "stream",
     "text": [
      "Label: 0\n"
     ]
    },
    {
     "data": {
      "text/plain": [
       "<matplotlib.image.AxesImage at 0x77fc11fef4c0>"
      ]
     },
     "execution_count": 8,
     "metadata": {},
     "output_type": "execute_result"
    },
    {
     "data": {
      "image/png": "[encoded data removed]",
      "text/plain": [
       "<Figure size 640x480 with 1 Axes>"
      ]
     },
     "metadata": {},
     "output_type": "display_data"
    }
   ],
   "source": [
    "a = 28\n",
    "print(f\"Label: {y_test_tensor[a]}\")\n",
    "plt.imshow(x_test_tensor_rescaled[a], cmap=\"grey\")"
   ]
  },
  {
   "cell_type": "code",
   "execution_count": 9,
   "id": "360a7965-06ee-41ff-8ee0-7827993350b2",
   "metadata": {},
   "outputs": [
    {
     "data": {
      "text/plain": [
       "Unique(y=<tf.Tensor: shape=(10,), dtype=uint8, numpy=array([5, 0, 4, 1, 9, 2, 3, 6, 7, 8], dtype=uint8)>, idx=<tf.Tensor: shape=(60000,), dtype=int32, numpy=array([0, 1, 2, ..., 0, 7, 9], dtype=int32)>)"
      ]
     },
     "execution_count": 9,
     "metadata": {},
     "output_type": "execute_result"
    }
   ],
   "source": [
    "tf.unique(y_train_tensor)"
   ]
  },
  {
   "cell_type": "markdown",
   "id": "235c9e5c-e4f0-4195-9ce8-15ae07b47bad",
   "metadata": {},
   "source": [
    "We have 10 unique labels"
   ]
  },
  {
   "cell_type": "markdown",
   "id": "fea8f714-184b-432c-ad41-633860560152",
   "metadata": {},
   "source": [
    "# Creating the model"
   ]
  },
  {
   "cell_type": "code",
   "execution_count": 10,
   "id": "2c243a07-abcd-4e27-80ac-5b74105b4c31",
   "metadata": {},
   "outputs": [],
   "source": [
    "dnn_model = tf.keras.models.Sequential([\n",
    "    tf.keras.layers.Flatten(),\n",
    "    tf.keras.layers.Dense(512, activation=\"relu\", kernel_regularizer=tf.keras.regularizers.L2(0.0005)),\n",
    "    tf.keras.layers.Dense(1024, activation=\"relu\"),\n",
    "    tf.keras.layers.Dense(10, activation=\"softmax\")\n",
    "])"
   ]
  },
  {
   "cell_type": "code",
   "execution_count": 11,
   "id": "6d140f36-da1c-442c-8e34-4b2e6fd9d767",
   "metadata": {},
   "outputs": [],
   "source": [
    "dnn_model.compile(\n",
    "    loss = tf.keras.losses.sparse_categorical_crossentropy,\n",
    "    optimizer = tf.keras.optimizers.Adam(learning_rate=0.0005),\n",
    "    metrics = [\"accuracy\"]\n",
    ")"
   ]
  },
  {
   "cell_type": "code",
   "execution_count": 12,
   "id": "a65b88e7-c6f3-4ccf-b4df-b0e1c3aa26e9",
   "metadata": {},
   "outputs": [],
   "source": [
    "class MyCallback(tf.keras.callbacks.Callback):\n",
    "    def on_epoch_end(self, epoch, logs={}):\n",
    "        if logs.get(\"val_accuracy\")>0.98:\n",
    "            print(\"Reached %98 accuracy, stopping training\")\n",
    "            self.model.stop_training = True\n",
    "\n",
    "callback = MyCallback()"
   ]
  },
  {
   "cell_type": "markdown",
   "id": "bec4136f-fae7-444f-92c7-6361bab178d8",
   "metadata": {},
   "source": [
    "# Training and evaluating"
   ]
  },
  {
   "cell_type": "code",
   "execution_count": 13,
   "id": "28112264-555a-48ba-9eef-7adca244bf65",
   "metadata": {},
   "outputs": [
    {
     "name": "stdout",
     "output_type": "stream",
     "text": [
      "Epoch 1/100\n"
     ]
    },
    {
     "name": "stderr",
     "output_type": "stream",
     "text": [
      "2024-06-16 23:40:03.870723: I external/local_tsl/tsl/platform/default/subprocess.cc:304] Start cannot spawn child process: No such file or directory\n",
      "2024-06-16 23:40:03.905160: I external/local_xla/xla/service/service.cc:168] XLA service 0x77f8718bcc90 initialized for platform CUDA (this does not guarantee that XLA will be used). Devices:\n",
      "2024-06-16 23:40:03.905328: I external/local_xla/xla/service/service.cc:176]   StreamExecutor device (0): NVIDIA GeForce RTX 4060 Laptop GPU, Compute Capability 8.9\n",
      "2024-06-16 23:40:03.908972: I tensorflow/compiler/mlir/tensorflow/utils/dump_mlir_util.cc:269] disabling MLIR crash reproducer, set env var `MLIR_CRASH_REPRODUCER_DIRECTORY` to enable.\n",
      "2024-06-16 23:40:03.921739: I external/local_xla/xla/stream_executor/cuda/cuda_dnn.cc:454] Loaded cuDNN version 8907\n",
      "WARNING: All log messages before absl::InitializeLog() is called are written to STDERR\n",
      "I0000 00:00:1718570403.962596   35669 device_compiler.h:186] Compiled cluster using XLA!  This line is logged at most once for the lifetime of the process.\n"
     ]
    },
    {
     "name": "stdout",
     "output_type": "stream",
     "text": [
      "1875/1875 [==============================] - 4s 2ms/step - loss: 0.3319 - accuracy: 0.9412 - val_loss: 0.2141 - val_accuracy: 0.9658\n",
      "Epoch 2/100\n",
      "1875/1875 [==============================] - 3s 1ms/step - loss: 0.1737 - accuracy: 0.9723 - val_loss: 0.1879 - val_accuracy: 0.9649\n",
      "Epoch 3/100\n",
      "1875/1875 [==============================] - 3s 1ms/step - loss: 0.1364 - accuracy: 0.9787 - val_loss: 0.1442 - val_accuracy: 0.9742\n",
      "Epoch 4/100\n",
      "1875/1875 [==============================] - 3s 2ms/step - loss: 0.1155 - accuracy: 0.9817 - val_loss: 0.1262 - val_accuracy: 0.9781\n",
      "Epoch 5/100\n",
      "1875/1875 [==============================] - 3s 1ms/step - loss: 0.1022 - accuracy: 0.9841 - val_loss: 0.1180 - val_accuracy: 0.9785\n",
      "Epoch 6/100\n",
      "1875/1875 [==============================] - 3s 2ms/step - loss: 0.0929 - accuracy: 0.9861 - val_loss: 0.1185 - val_accuracy: 0.9792\n",
      "Epoch 7/100\n",
      "1875/1875 [==============================] - 3s 2ms/step - loss: 0.0867 - accuracy: 0.9870 - val_loss: 0.1115 - val_accuracy: 0.9793\n",
      "Epoch 8/100\n",
      "1857/1875 [============================>.] - ETA: 0s - loss: 0.0828 - accuracy: 0.9877Reached %98 accuracy, stopping training\n",
      "1875/1875 [==============================] - 3s 1ms/step - loss: 0.0830 - accuracy: 0.9877 - val_loss: 0.1097 - val_accuracy: 0.9808\n"
     ]
    }
   ],
   "source": [
    "history = dnn_model.fit(\n",
    "    x = x_train_tensor_rescaled,\n",
    "    y = y_train_tensor,\n",
    "    validation_data = (x_test_tensor_rescaled, y_test_tensor),\n",
    "    epochs = 100,\n",
    "    callbacks = [callback]\n",
    ")"
   ]
  },
  {
   "cell_type": "code",
   "execution_count": 14,
   "id": "f149735f-1c97-4741-8677-b3f03c6f3c18",
   "metadata": {},
   "outputs": [
    {
     "name": "stdout",
     "output_type": "stream",
     "text": [
      "Model: \"sequential\"\n",
      "_________________________________________________________________\n",
      " Layer (type)                Output Shape              Param #   \n",
      "=================================================================\n",
      " flatten (Flatten)           (None, 784)               0         \n",
      "                                                                 \n",
      " dense (Dense)               (None, 512)               401920    \n",
      "                                                                 \n",
      " dense_1 (Dense)             (None, 1024)              525312    \n",
      "                                                                 \n",
      " dense_2 (Dense)             (None, 10)                10250     \n",
      "                                                                 \n",
      "=================================================================\n",
      "Total params: 937482 (3.58 MB)\n",
      "Trainable params: 937482 (3.58 MB)\n",
      "Non-trainable params: 0 (0.00 Byte)\n",
      "_________________________________________________________________\n"
     ]
    }
   ],
   "source": [
    "dnn_model.summary()"
   ]
  },
  {
   "cell_type": "code",
   "execution_count": 15,
   "id": "4d89ee45-8ddf-40f0-ab86-13825e087938",
   "metadata": {},
   "outputs": [
    {
     "data": {
      "text/plain": [
       "<Axes: >"
      ]
     },
     "execution_count": 15,
     "metadata": {},
     "output_type": "execute_result"
    },
    {
     "data": {
      "image/png": "[encoded data removed]",
      "text/plain": [
       "<Figure size 640x480 with 1 Axes>"
      ]
     },
     "metadata": {},
     "output_type": "display_data"
    }
   ],
   "source": [
    "pd.DataFrame(history.history).plot()"
   ]
  },
  {
   "cell_type": "code",
   "execution_count": 16,
   "id": "22f6798e-3705-4bf8-bf54-6708a9d3ce4a",
   "metadata": {},
   "outputs": [
    {
     "name": "stdout",
     "output_type": "stream",
     "text": [
      "313/313 [==============================] - 0s 894us/step - loss: 0.1097 - accuracy: 0.9808\n"
     ]
    },
    {
     "data": {
      "text/plain": [
       "[0.10969511419534683, 0.9807999730110168]"
      ]
     },
     "execution_count": 16,
     "metadata": {},
     "output_type": "execute_result"
    }
   ],
   "source": [
    "dnn_model.evaluate(x_test_tensor_rescaled, y_test_tensor)"
   ]
  },
  {
   "cell_type": "code",
   "execution_count": 17,
   "id": "d83a960e-a268-4ae8-a974-86d72f53930d",
   "metadata": {},
   "outputs": [
    {
     "name": "stdout",
     "output_type": "stream",
     "text": [
      "313/313 [==============================] - 0s 597us/step\n"
     ]
    }
   ],
   "source": [
    "from sklearn.metrics import confusion_matrix\n",
    "preds = dnn_model.predict(x_test_tensor_rescaled)\n",
    "cm = confusion_matrix(y_test_tensor, preds.argmax(axis=-1))"
   ]
  },
  {
   "cell_type": "code",
   "execution_count": 18,
   "id": "f4616171-2298-4918-a8c7-c083518528ee",
   "metadata": {},
   "outputs": [
    {
     "data": {
      "text/plain": [
       "array([[ 970,    0,    0,    0,    1,    2,    2,    0,    2,    3],\n",
       "       [   0, 1129,    0,    1,    0,    1,    0,    1,    3,    0],\n",
       "       [   3,    1, 1008,    6,    0,    1,    2,    3,    8,    0],\n",
       "       [   0,    0,    2,  979,    0,   21,    0,    3,    3,    2],\n",
       "       [   2,    1,    1,    0,  962,    1,    7,    1,    0,    7],\n",
       "       [   2,    0,    0,    2,    1,  882,    1,    1,    2,    1],\n",
       "       [   2,    3,    0,    0,    7,    9,  935,    0,    2,    0],\n",
       "       [   0,    5,    6,    1,    1,    0,    0, 1007,    1,    7],\n",
       "       [   1,    0,    0,    1,    2,    4,    1,    4,  959,    2],\n",
       "       [   2,    1,    1,    0,   11,   10,    0,    2,    5,  977]])"
      ]
     },
     "execution_count": 18,
     "metadata": {},
     "output_type": "execute_result"
    }
   ],
   "source": [
    "cm"
   ]
  },
  {
   "cell_type": "code",
   "execution_count": 19,
   "id": "e754b5b6-e149-493a-8754-dc916a27a700",
   "metadata": {},
   "outputs": [],
   "source": [
    "cm_df = pd.DataFrame(data=cm)"
   ]
  },
  {
   "cell_type": "code",
   "execution_count": 20,
   "id": "b0bc6835-77a5-4697-93fb-f9300195a592",
   "metadata": {},
   "outputs": [
    {
     "data": {
      "text/html": [
       "<div>\n",
       "<style scoped>\n",
       "    .dataframe tbody tr th:only-of-type {\n",
       "        vertical-align: middle;\n",
       "    }\n",
       "\n",
       "    .dataframe tbody tr th {\n",
       "        vertical-align: top;\n",
       "    }\n",
       "\n",
       "    .dataframe thead th {\n",
       "        text-align: right;\n",
       "    }\n",
       "</style>\n",
       "<table border=\"1\" class=\"dataframe\">\n",
       "  <thead>\n",
       "    <tr style=\"text-align: right;\">\n",
       "      <th></th>\n",
       "      <th>0</th>\n",
       "      <th>1</th>\n",
       "      <th>2</th>\n",
       "      <th>3</th>\n",
       "      <th>4</th>\n",
       "      <th>5</th>\n",
       "      <th>6</th>\n",
       "      <th>7</th>\n",
       "      <th>8</th>\n",
       "      <th>9</th>\n",
       "    </tr>\n",
       "  </thead>\n",
       "  <tbody>\n",
       "    <tr>\n",
       "      <th>0</th>\n",
       "      <td>970</td>\n",
       "      <td>0</td>\n",
       "      <td>0</td>\n",
       "      <td>0</td>\n",
       "      <td>1</td>\n",
       "      <td>2</td>\n",
       "      <td>2</td>\n",
       "      <td>0</td>\n",
       "      <td>2</td>\n",
       "      <td>3</td>\n",
       "    </tr>\n",
       "    <tr>\n",
       "      <th>1</th>\n",
       "      <td>0</td>\n",
       "      <td>1129</td>\n",
       "      <td>0</td>\n",
       "      <td>1</td>\n",
       "      <td>0</td>\n",
       "      <td>1</td>\n",
       "      <td>0</td>\n",
       "      <td>1</td>\n",
       "      <td>3</td>\n",
       "      <td>0</td>\n",
       "    </tr>\n",
       "    <tr>\n",
       "      <th>2</th>\n",
       "      <td>3</td>\n",
       "      <td>1</td>\n",
       "      <td>1008</td>\n",
       "      <td>6</td>\n",
       "      <td>0</td>\n",
       "      <td>1</td>\n",
       "      <td>2</td>\n",
       "      <td>3</td>\n",
       "      <td>8</td>\n",
       "      <td>0</td>\n",
       "    </tr>\n",
       "    <tr>\n",
       "      <th>3</th>\n",
       "      <td>0</td>\n",
       "      <td>0</td>\n",
       "      <td>2</td>\n",
       "      <td>979</td>\n",
       "      <td>0</td>\n",
       "      <td>21</td>\n",
       "      <td>0</td>\n",
       "      <td>3</td>\n",
       "      <td>3</td>\n",
       "      <td>2</td>\n",
       "    </tr>\n",
       "    <tr>\n",
       "      <th>4</th>\n",
       "      <td>2</td>\n",
       "      <td>1</td>\n",
       "      <td>1</td>\n",
       "      <td>0</td>\n",
       "      <td>962</td>\n",
       "      <td>1</td>\n",
       "      <td>7</td>\n",
       "      <td>1</td>\n",
       "      <td>0</td>\n",
       "      <td>7</td>\n",
       "    </tr>\n",
       "    <tr>\n",
       "      <th>5</th>\n",
       "      <td>2</td>\n",
       "      <td>0</td>\n",
       "      <td>0</td>\n",
       "      <td>2</td>\n",
       "      <td>1</td>\n",
       "      <td>882</td>\n",
       "      <td>1</td>\n",
       "      <td>1</td>\n",
       "      <td>2</td>\n",
       "      <td>1</td>\n",
       "    </tr>\n",
       "    <tr>\n",
       "      <th>6</th>\n",
       "      <td>2</td>\n",
       "      <td>3</td>\n",
       "      <td>0</td>\n",
       "      <td>0</td>\n",
       "      <td>7</td>\n",
       "      <td>9</td>\n",
       "      <td>935</td>\n",
       "      <td>0</td>\n",
       "      <td>2</td>\n",
       "      <td>0</td>\n",
       "    </tr>\n",
       "    <tr>\n",
       "      <th>7</th>\n",
       "      <td>0</td>\n",
       "      <td>5</td>\n",
       "      <td>6</td>\n",
       "      <td>1</td>\n",
       "      <td>1</td>\n",
       "      <td>0</td>\n",
       "      <td>0</td>\n",
       "      <td>1007</td>\n",
       "      <td>1</td>\n",
       "      <td>7</td>\n",
       "    </tr>\n",
       "    <tr>\n",
       "      <th>8</th>\n",
       "      <td>1</td>\n",
       "      <td>0</td>\n",
       "      <td>0</td>\n",
       "      <td>1</td>\n",
       "      <td>2</td>\n",
       "      <td>4</td>\n",
       "      <td>1</td>\n",
       "      <td>4</td>\n",
       "      <td>959</td>\n",
       "      <td>2</td>\n",
       "    </tr>\n",
       "    <tr>\n",
       "      <th>9</th>\n",
       "      <td>2</td>\n",
       "      <td>1</td>\n",
       "      <td>1</td>\n",
       "      <td>0</td>\n",
       "      <td>11</td>\n",
       "      <td>10</td>\n",
       "      <td>0</td>\n",
       "      <td>2</td>\n",
       "      <td>5</td>\n",
       "      <td>977</td>\n",
       "    </tr>\n",
       "  </tbody>\n",
       "</table>\n",
       "</div>"
      ],
      "text/plain": [
       "     0     1     2    3    4    5    6     7    8    9\n",
       "0  970     0     0    0    1    2    2     0    2    3\n",
       "1    0  1129     0    1    0    1    0     1    3    0\n",
       "2    3     1  1008    6    0    1    2     3    8    0\n",
       "3    0     0     2  979    0   21    0     3    3    2\n",
       "4    2     1     1    0  962    1    7     1    0    7\n",
       "5    2     0     0    2    1  882    1     1    2    1\n",
       "6    2     3     0    0    7    9  935     0    2    0\n",
       "7    0     5     6    1    1    0    0  1007    1    7\n",
       "8    1     0     0    1    2    4    1     4  959    2\n",
       "9    2     1     1    0   11   10    0     2    5  977"
      ]
     },
     "execution_count": 20,
     "metadata": {},
     "output_type": "execute_result"
    }
   ],
   "source": [
    "cm_df"
   ]
  },
  {
   "cell_type": "code",
   "execution_count": 21,
   "id": "37a3e2bf-1986-41b9-8975-15ebc67a6c2e",
   "metadata": {
    "scrolled": true
   },
   "outputs": [
    {
     "data": {
      "text/plain": [
       "<Axes: >"
      ]
     },
     "execution_count": 21,
     "metadata": {},
     "output_type": "execute_result"
    },
    {
     "data": {
      "image/png": "[encoded data removed]",
      "text/plain": [
       "<Figure size 640x480 with 2 Axes>"
      ]
     },
     "metadata": {},
     "output_type": "display_data"
    }
   ],
   "source": [
    "sns.heatmap(cm_df, cmap=\"rocket\", xticklabels=range(0,10), yticklabels=range(0,10))"
   ]
  },
  {
   "cell_type": "code",
   "execution_count": null,
   "id": "161c105f-402c-48b1-adaa-567b56e9d660",
   "metadata": {},
   "outputs": [],
   "source": []
  }
 ],
 "metadata": {
  "kernelspec": {
   "display_name": "Python 3 (ipykernel)",
   "language": "python",
   "name": "python3"
  },
  "language_info": {
   "codemirror_mode": {
    "name": "ipython",
    "version": 3
   },
   "file_extension": ".py",
   "mimetype": "text/x-python",
   "name": "python",
   "nbconvert_exporter": "python",
   "pygments_lexer": "ipython3",
   "version": "3.10.12"
  }
 },
 "nbformat": 4,
 "nbformat_minor": 5
}
