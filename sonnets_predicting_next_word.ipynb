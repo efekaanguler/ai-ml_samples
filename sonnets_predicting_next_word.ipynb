{
 "cells": [
  {
   "cell_type": "markdown",
   "id": "0e668641-07f3-49ce-afe3-f9cea998f6ab",
   "metadata": {},
   "source": [
    "# Importing TensorFlow"
   ]
  },
  {
   "cell_type": "code",
   "execution_count": 1,
   "id": "711be7dc-0d9e-46ae-809f-d5781692bed9",
   "metadata": {},
   "outputs": [
    {
     "name": "stdout",
     "output_type": "stream",
     "text": [
      "Fri Jun 21 15:25:08 2024       \n",
      "+-----------------------------------------------------------------------------------------+\n",
      "| NVIDIA-SMI 550.54.14              Driver Version: 550.54.14      CUDA Version: 12.4     |\n",
      "|-----------------------------------------+------------------------+----------------------+\n",
      "| GPU  Name                 Persistence-M | Bus-Id          Disp.A | Volatile Uncorr. ECC |\n",
      "| Fan  Temp   Perf          Pwr:Usage/Cap |           Memory-Usage | GPU-Util  Compute M. |\n",
      "|                                         |                        |               MIG M. |\n",
      "|=========================================+========================+======================|\n",
      "|   0  NVIDIA GeForce RTX 4060 ...    Off |   00000000:01:00.0 Off |                  N/A |\n",
      "| N/A   50C    P8              3W /  100W |      14MiB /   8188MiB |      0%      Default |\n",
      "|                                         |                        |                  N/A |\n",
      "+-----------------------------------------+------------------------+----------------------+\n",
      "                                                                                         \n",
      "+-----------------------------------------------------------------------------------------+\n",
      "| Processes:                                                                              |\n",
      "|  GPU   GI   CI        PID   Type   Process name                              GPU Memory |\n",
      "|        ID   ID                                                               Usage      |\n",
      "|=========================================================================================|\n",
      "|    0   N/A  N/A      1986      G   /usr/lib/xorg/Xorg                              4MiB |\n",
      "+-----------------------------------------------------------------------------------------+\n"
     ]
    }
   ],
   "source": [
    "!nvidia-smi"
   ]
  },
  {
   "cell_type": "code",
   "execution_count": 2,
   "id": "00e1afab-a8ca-492b-a9ed-b41be4f2a234",
   "metadata": {},
   "outputs": [
    {
     "name": "stderr",
     "output_type": "stream",
     "text": [
      "2024-06-21 15:25:08.775612: I tensorflow/core/util/port.cc:113] oneDNN custom operations are on. You may see slightly different numerical results due to floating-point round-off errors from different computation orders. To turn them off, set the environment variable `TF_ENABLE_ONEDNN_OPTS=0`.\n",
      "2024-06-21 15:25:08.799871: E external/local_xla/xla/stream_executor/cuda/cuda_dnn.cc:9261] Unable to register cuDNN factory: Attempting to register factory for plugin cuDNN when one has already been registered\n",
      "2024-06-21 15:25:08.799895: E external/local_xla/xla/stream_executor/cuda/cuda_fft.cc:607] Unable to register cuFFT factory: Attempting to register factory for plugin cuFFT when one has already been registered\n",
      "2024-06-21 15:25:08.800534: E external/local_xla/xla/stream_executor/cuda/cuda_blas.cc:1515] Unable to register cuBLAS factory: Attempting to register factory for plugin cuBLAS when one has already been registered\n",
      "2024-06-21 15:25:08.804814: I tensorflow/core/platform/cpu_feature_guard.cc:182] This TensorFlow binary is optimized to use available CPU instructions in performance-critical operations.\n",
      "To enable the following instructions: AVX2 AVX_VNNI FMA, in other operations, rebuild TensorFlow with the appropriate compiler flags.\n"
     ]
    },
    {
     "name": "stdout",
     "output_type": "stream",
     "text": [
      "2.15.0\n"
     ]
    }
   ],
   "source": [
    "import tensorflow as tf\n",
    "print(tf.__version__)"
   ]
  },
  {
   "cell_type": "code",
   "execution_count": 3,
   "id": "c774402a-7fc6-4c2e-ae69-a24ace652c01",
   "metadata": {},
   "outputs": [],
   "source": [
    "import numpy as np\n",
    "import pandas as pd\n",
    "import matplotlib.pyplot as plt\n",
    "import seaborn as sns"
   ]
  },
  {
   "cell_type": "markdown",
   "id": "d035db91-599b-4a84-9ded-03c2eedadf48",
   "metadata": {},
   "source": [
    "# Preparing data"
   ]
  },
  {
   "cell_type": "code",
   "execution_count": 4,
   "id": "ff42b90f-3b71-401f-ac4a-409e43924195",
   "metadata": {},
   "outputs": [],
   "source": [
    "#!gdown --id 108jAePKK4R3BVYBbYJZ32JWUwxeMg20K"
   ]
  },
  {
   "cell_type": "code",
   "execution_count": 5,
   "id": "336beaf7-ac1c-41a7-afbe-276c4f053ce3",
   "metadata": {},
   "outputs": [
    {
     "name": "stdout",
     "output_type": "stream",
     "text": [
      "There are 2159 lines of sonnets\n",
      "\n",
      "The first 5 lines look like this:\n",
      "\n",
      "from fairest creatures we desire increase,\n",
      "that thereby beauty's rose might never die,\n",
      "but as the riper should by time decease,\n",
      "his tender heir might bear his memory:\n",
      "but thou, contracted to thine own bright eyes,\n"
     ]
    }
   ],
   "source": [
    "SONNETS_FILE = './sonnets.txt'\n",
    "\n",
    "with open('./sonnets.txt') as f:\n",
    "    data = f.read()\n",
    "\n",
    "corpus = data.lower().split(\"\\n\")\n",
    "\n",
    "print(f\"There are {len(corpus)} lines of sonnets\\n\")\n",
    "print(f\"The first 5 lines look like this:\\n\")\n",
    "for i in range(5):\n",
    "  print(corpus[i])"
   ]
  },
  {
   "cell_type": "code",
   "execution_count": 6,
   "id": "57b4ab7f-a8c7-4e13-8ce1-f3729feca1bf",
   "metadata": {},
   "outputs": [],
   "source": [
    "tokenizer = tf.keras.preprocessing.text.Tokenizer()\n",
    "tokenizer.fit_on_texts(corpus)\n",
    "total_words = len(tokenizer.word_index) + 1"
   ]
  },
  {
   "cell_type": "code",
   "execution_count": 7,
   "id": "580c5d41-c4e2-4faf-b393-da25bbaf15e9",
   "metadata": {},
   "outputs": [],
   "source": [
    "input_sequences = []\n",
    "\n",
    "for line in corpus:\n",
    "    token_list = tokenizer.texts_to_sequences([line])[0]\n",
    "    for i in range(1, len(token_list)):\n",
    "        n_gram_sequence = token_list[:i+1]\n",
    "        input_sequences.append(n_gram_sequence)"
   ]
  },
  {
   "cell_type": "code",
   "execution_count": 8,
   "id": "d1e95ef3-72e0-4b96-a166-3f79811f27a2",
   "metadata": {},
   "outputs": [
    {
     "name": "stdout",
     "output_type": "stream",
     "text": [
      "n_grams of input_sequences have length: 15462\n",
      "maximum length of sequences is: 11\n"
     ]
    }
   ],
   "source": [
    "max_sequence_len = max([len(x) for x in input_sequences])\n",
    "\n",
    "print(f\"n_grams of input_sequences have length: {len(input_sequences)}\")\n",
    "print(f\"maximum length of sequences is: {max_sequence_len}\")"
   ]
  },
  {
   "cell_type": "code",
   "execution_count": 9,
   "id": "52e85799-7351-40de-9b6c-1e12441ab45d",
   "metadata": {},
   "outputs": [],
   "source": [
    "input_sequences = tf.keras.utils.pad_sequences(input_sequences, maxlen=max_sequence_len, padding=\"pre\")"
   ]
  },
  {
   "cell_type": "code",
   "execution_count": 10,
   "id": "e0528961-b2e6-4c15-8f4d-a98fda653085",
   "metadata": {},
   "outputs": [],
   "source": [
    "features = input_sequences[:,:-1]\n",
    "labels = input_sequences[:,-1]\n",
    "labels = tf.keras.utils.to_categorical(labels, num_classes=total_words)"
   ]
  },
  {
   "cell_type": "code",
   "execution_count": 11,
   "id": "225d7b6d-df06-4702-b90c-0e6605792d01",
   "metadata": {},
   "outputs": [
    {
     "name": "stdout",
     "output_type": "stream",
     "text": [
      "features have shape: (15462, 10)\n",
      "labels have shape: (15462, 3211)\n"
     ]
    }
   ],
   "source": [
    "print(f\"features have shape: {features.shape}\")\n",
    "print(f\"labels have shape: {labels.shape}\")"
   ]
  },
  {
   "cell_type": "markdown",
   "id": "9acf3ec8-dc8b-47ae-a8ba-46c5167cf7b3",
   "metadata": {},
   "source": [
    "# Creating and training the model"
   ]
  },
  {
   "cell_type": "code",
   "execution_count": 12,
   "id": "0254a0ea-b531-4202-ad5b-f838818d7eb8",
   "metadata": {},
   "outputs": [
    {
     "name": "stderr",
     "output_type": "stream",
     "text": [
      "2024-06-21 15:25:10.512000: I tensorflow/core/common_runtime/gpu/gpu_device.cc:1929] Created device /job:localhost/replica:0/task:0/device:GPU:0 with 6070 MB memory:  -> device: 0, name: NVIDIA GeForce RTX 4060 Laptop GPU, pci bus id: 0000:01:00.0, compute capability: 8.9\n",
      "2024-06-21 15:25:10.616205: I external/local_tsl/tsl/platform/default/subprocess.cc:304] Start cannot spawn child process: No such file or directory\n"
     ]
    }
   ],
   "source": [
    "model = tf.keras.models.Sequential([\n",
    "    tf.keras.layers.Embedding(total_words, 100, input_length=max_sequence_len-1),\n",
    "    tf.keras.layers.Bidirectional(tf.keras.layers.LSTM(150)),\n",
    "    tf.keras.layers.Dense(total_words, activation=\"softmax\")\n",
    "])"
   ]
  },
  {
   "cell_type": "code",
   "execution_count": 13,
   "id": "f9569063-3c12-42d0-881a-a9c26cfa5cca",
   "metadata": {},
   "outputs": [
    {
     "name": "stdout",
     "output_type": "stream",
     "text": [
      "Model: \"sequential\"\n",
      "_________________________________________________________________\n",
      " Layer (type)                Output Shape              Param #   \n",
      "=================================================================\n",
      " embedding (Embedding)       (None, 10, 100)           321100    \n",
      "                                                                 \n",
      " bidirectional (Bidirection  (None, 300)               301200    \n",
      " al)                                                             \n",
      "                                                                 \n",
      " dense (Dense)               (None, 3211)              966511    \n",
      "                                                                 \n",
      "=================================================================\n",
      "Total params: 1588811 (6.06 MB)\n",
      "Trainable params: 1588811 (6.06 MB)\n",
      "Non-trainable params: 0 (0.00 Byte)\n",
      "_________________________________________________________________\n"
     ]
    }
   ],
   "source": [
    "model.summary()"
   ]
  },
  {
   "cell_type": "code",
   "execution_count": 14,
   "id": "dbc955b4-d1f0-4b47-ac15-f4dc974a00cb",
   "metadata": {},
   "outputs": [
    {
     "data": {
      "image/png": "[encoded data removed]",
      "text/plain": [
       "<IPython.core.display.Image object>"
      ]
     },
     "execution_count": 14,
     "metadata": {},
     "output_type": "execute_result"
    }
   ],
   "source": [
    "tf.keras.utils.plot_model(model, show_layer_activations=True, show_shapes=True)"
   ]
  },
  {
   "cell_type": "code",
   "execution_count": 15,
   "id": "c646b304-c99e-41a5-9cfe-c70a12f977aa",
   "metadata": {},
   "outputs": [],
   "source": [
    "model.compile(\n",
    "    loss = tf.keras.losses.categorical_crossentropy,\n",
    "    optimizer = tf.keras.optimizers.Adam(),\n",
    "    metrics=[\"accuracy\"]\n",
    ")"
   ]
  },
  {
   "cell_type": "code",
   "execution_count": 16,
   "id": "ab9996ae-a2f8-4481-9c7e-f9208cc1dd20",
   "metadata": {},
   "outputs": [
    {
     "name": "stdout",
     "output_type": "stream",
     "text": [
      "Epoch 1/50\n"
     ]
    },
    {
     "name": "stderr",
     "output_type": "stream",
     "text": [
      "2024-06-21 15:25:12.593241: I external/local_xla/xla/stream_executor/cuda/cuda_dnn.cc:454] Loaded cuDNN version 8907\n",
      "2024-06-21 15:25:12.664326: I external/local_xla/xla/service/service.cc:168] XLA service 0x725cad842510 initialized for platform CUDA (this does not guarantee that XLA will be used). Devices:\n",
      "2024-06-21 15:25:12.664351: I external/local_xla/xla/service/service.cc:176]   StreamExecutor device (0): NVIDIA GeForce RTX 4060 Laptop GPU, Compute Capability 8.9\n",
      "2024-06-21 15:25:12.668285: I tensorflow/compiler/mlir/tensorflow/utils/dump_mlir_util.cc:269] disabling MLIR crash reproducer, set env var `MLIR_CRASH_REPRODUCER_DIRECTORY` to enable.\n",
      "WARNING: All log messages before absl::InitializeLog() is called are written to STDERR\n",
      "I0000 00:00:1718972712.742515   30377 device_compiler.h:186] Compiled cluster using XLA!  This line is logged at most once for the lifetime of the process.\n"
     ]
    },
    {
     "name": "stdout",
     "output_type": "stream",
     "text": [
      "484/484 [==============================] - 7s 11ms/step - loss: 6.8714 - accuracy: 0.0230\n",
      "Epoch 2/50\n",
      "484/484 [==============================] - 2s 4ms/step - loss: 6.4257 - accuracy: 0.0318\n",
      "Epoch 3/50\n",
      "484/484 [==============================] - 2s 5ms/step - loss: 6.1730 - accuracy: 0.0431\n",
      "Epoch 4/50\n",
      "484/484 [==============================] - 2s 4ms/step - loss: 5.8914 - accuracy: 0.0544\n",
      "Epoch 5/50\n",
      "484/484 [==============================] - 2s 4ms/step - loss: 5.5887 - accuracy: 0.0629\n",
      "Epoch 6/50\n",
      "484/484 [==============================] - 2s 4ms/step - loss: 5.2488 - accuracy: 0.0775\n",
      "Epoch 7/50\n",
      "484/484 [==============================] - 2s 4ms/step - loss: 4.8823 - accuracy: 0.0959\n",
      "Epoch 8/50\n",
      "484/484 [==============================] - 2s 4ms/step - loss: 4.4962 - accuracy: 0.1237\n",
      "Epoch 9/50\n",
      "484/484 [==============================] - 2s 5ms/step - loss: 4.1086 - accuracy: 0.1684\n",
      "Epoch 10/50\n",
      "484/484 [==============================] - 2s 4ms/step - loss: 3.7181 - accuracy: 0.2321\n",
      "Epoch 11/50\n",
      "484/484 [==============================] - 2s 4ms/step - loss: 3.3548 - accuracy: 0.2990\n",
      "Epoch 12/50\n",
      "484/484 [==============================] - 2s 4ms/step - loss: 3.0204 - accuracy: 0.3663\n",
      "Epoch 13/50\n",
      "484/484 [==============================] - 2s 4ms/step - loss: 2.7216 - accuracy: 0.4237\n",
      "Epoch 14/50\n",
      "484/484 [==============================] - 2s 4ms/step - loss: 2.4537 - accuracy: 0.4783\n",
      "Epoch 15/50\n",
      "484/484 [==============================] - 2s 4ms/step - loss: 2.2238 - accuracy: 0.5281\n",
      "Epoch 16/50\n",
      "484/484 [==============================] - 2s 4ms/step - loss: 2.0078 - accuracy: 0.5737\n",
      "Epoch 17/50\n",
      "484/484 [==============================] - 2s 4ms/step - loss: 1.8190 - accuracy: 0.6167\n",
      "Epoch 18/50\n",
      "484/484 [==============================] - 2s 4ms/step - loss: 1.6575 - accuracy: 0.6547\n",
      "Epoch 19/50\n",
      "484/484 [==============================] - 2s 4ms/step - loss: 1.5078 - accuracy: 0.6849\n",
      "Epoch 20/50\n",
      "484/484 [==============================] - 2s 4ms/step - loss: 1.3808 - accuracy: 0.7169\n",
      "Epoch 21/50\n",
      "484/484 [==============================] - 2s 4ms/step - loss: 1.2636 - accuracy: 0.7424\n",
      "Epoch 22/50\n",
      "484/484 [==============================] - 2s 4ms/step - loss: 1.1655 - accuracy: 0.7602\n",
      "Epoch 23/50\n",
      "484/484 [==============================] - 2s 4ms/step - loss: 1.0734 - accuracy: 0.7786\n",
      "Epoch 24/50\n",
      "484/484 [==============================] - 2s 4ms/step - loss: 1.0012 - accuracy: 0.7931\n",
      "Epoch 25/50\n",
      "484/484 [==============================] - 2s 4ms/step - loss: 0.9312 - accuracy: 0.8065\n",
      "Epoch 26/50\n",
      "484/484 [==============================] - 2s 4ms/step - loss: 0.8826 - accuracy: 0.8125\n",
      "Epoch 27/50\n",
      "484/484 [==============================] - 2s 4ms/step - loss: 0.8294 - accuracy: 0.8243\n",
      "Epoch 28/50\n",
      "484/484 [==============================] - 2s 4ms/step - loss: 0.7914 - accuracy: 0.8282\n",
      "Epoch 29/50\n",
      "484/484 [==============================] - 2s 4ms/step - loss: 0.7605 - accuracy: 0.8324\n",
      "Epoch 30/50\n",
      "484/484 [==============================] - 2s 4ms/step - loss: 0.7318 - accuracy: 0.8354\n",
      "Epoch 31/50\n",
      "484/484 [==============================] - 2s 4ms/step - loss: 0.7057 - accuracy: 0.8379\n",
      "Epoch 32/50\n",
      "484/484 [==============================] - 2s 4ms/step - loss: 0.6816 - accuracy: 0.8415\n",
      "Epoch 33/50\n",
      "484/484 [==============================] - 2s 4ms/step - loss: 0.6650 - accuracy: 0.8428\n",
      "Epoch 34/50\n",
      "484/484 [==============================] - 2s 4ms/step - loss: 0.6584 - accuracy: 0.8421\n",
      "Epoch 35/50\n",
      "484/484 [==============================] - 2s 4ms/step - loss: 0.6402 - accuracy: 0.8468\n",
      "Epoch 36/50\n",
      "484/484 [==============================] - 2s 4ms/step - loss: 0.6302 - accuracy: 0.8457\n",
      "Epoch 37/50\n",
      "484/484 [==============================] - 2s 4ms/step - loss: 0.6213 - accuracy: 0.8465\n",
      "Epoch 38/50\n",
      "484/484 [==============================] - 2s 4ms/step - loss: 0.6168 - accuracy: 0.8474\n",
      "Epoch 39/50\n",
      "484/484 [==============================] - 2s 4ms/step - loss: 0.6034 - accuracy: 0.8487\n",
      "Epoch 40/50\n",
      "484/484 [==============================] - 2s 4ms/step - loss: 0.5998 - accuracy: 0.8481\n",
      "Epoch 41/50\n",
      "484/484 [==============================] - 2s 4ms/step - loss: 0.5916 - accuracy: 0.8484\n",
      "Epoch 42/50\n",
      "484/484 [==============================] - 2s 4ms/step - loss: 0.5914 - accuracy: 0.8488\n",
      "Epoch 43/50\n",
      "484/484 [==============================] - 2s 4ms/step - loss: 0.5845 - accuracy: 0.8497\n",
      "Epoch 44/50\n",
      "484/484 [==============================] - 2s 4ms/step - loss: 0.5828 - accuracy: 0.8482\n",
      "Epoch 45/50\n",
      "484/484 [==============================] - 2s 4ms/step - loss: 0.5809 - accuracy: 0.8479\n",
      "Epoch 46/50\n",
      "484/484 [==============================] - 2s 4ms/step - loss: 0.5705 - accuracy: 0.8500\n",
      "Epoch 47/50\n",
      "484/484 [==============================] - 2s 4ms/step - loss: 0.5693 - accuracy: 0.8489\n",
      "Epoch 48/50\n",
      "484/484 [==============================] - 2s 4ms/step - loss: 0.5667 - accuracy: 0.8503\n",
      "Epoch 49/50\n",
      "484/484 [==============================] - 2s 4ms/step - loss: 0.5655 - accuracy: 0.8495\n",
      "Epoch 50/50\n",
      "484/484 [==============================] - 2s 4ms/step - loss: 0.5728 - accuracy: 0.8472\n"
     ]
    }
   ],
   "source": [
    "history = model.fit(\n",
    "    x = features,\n",
    "    y = labels,\n",
    "    epochs = 50\n",
    ")"
   ]
  },
  {
   "cell_type": "code",
   "execution_count": 17,
   "id": "a17d7960-2c33-49f1-aef3-d3d5dd219d19",
   "metadata": {},
   "outputs": [
    {
     "data": {
      "text/plain": [
       "<Axes: >"
      ]
     },
     "execution_count": 17,
     "metadata": {},
     "output_type": "execute_result"
    },
    {
     "data": {
      "image/png": "[encoded data removed]",
      "text/plain": [
       "<Figure size 640x480 with 1 Axes>"
      ]
     },
     "metadata": {},
     "output_type": "display_data"
    }
   ],
   "source": [
    "pd.DataFrame(history.history).plot()"
   ]
  },
  {
   "cell_type": "markdown",
   "id": "04085dbd-1355-4d5d-93a5-ea8d76dd23ad",
   "metadata": {},
   "source": [
    "# Prediction"
   ]
  },
  {
   "cell_type": "code",
   "execution_count": 19,
   "id": "1c5c6e0f-e356-4561-bdcb-2fa4897fa5aa",
   "metadata": {},
   "outputs": [
    {
     "name": "stdout",
     "output_type": "stream",
     "text": [
      "Help me Obi Wan Kenobi, you're my only hope my eye is pride to show it wrong hate with more rare hath erred in thine one itself ' they do show thee one much great green more more than in my verse ' repair birth to die it bright ' if me love you not doth green my love still truly mine for all doth thee alone ' see mine for you die alone is not grace her eyes are took remain done that lie in thee i have you now see me ' see the praise you well doth catch such so great rage razed rare bright blushing\n"
     ]
    }
   ],
   "source": [
    "seed_text = \"Help me Obi Wan Kenobi, you're my only hope\"\n",
    "next_words = 100\n",
    "\n",
    "for _ in range(next_words):\n",
    "    token_list = tokenizer.texts_to_sequences([seed_text])[0]\n",
    "    token_list = tf.keras.utils.pad_sequences([token_list], maxlen=max_sequence_len-1, padding=\"pre\")\n",
    "    predicted = model.predict(token_list, verbose=0)\n",
    "    predicted = np.argmax(predicted, axis=-1).item()\n",
    "    output_word = tokenizer.index_word[predicted]\n",
    "    seed_text += \" \" + output_word\n",
    "\n",
    "print(seed_text)"
   ]
  }
 ],
 "metadata": {
  "kernelspec": {
   "display_name": "Python 3 (ipykernel)",
   "language": "python",
   "name": "python3"
  },
  "language_info": {
   "codemirror_mode": {
    "name": "ipython",
    "version": 3
   },
   "file_extension": ".py",
   "mimetype": "text/x-python",
   "name": "python",
   "nbconvert_exporter": "python",
   "pygments_lexer": "ipython3",
   "version": "3.10.12"
  }
 },
 "nbformat": 4,
 "nbformat_minor": 5
}
